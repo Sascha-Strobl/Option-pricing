{
 "cells": [
  {
   "cell_type": "markdown",
   "metadata": {
    "collapsed": true
   },
   "source": [
    "## Option Pricing with binomial lattice"
   ]
  },
  {
   "cell_type": "markdown",
   "metadata": {},
   "source": [
    "### Necessary libraries"
   ]
  },
  {
   "cell_type": "code",
   "execution_count": 1,
   "metadata": {
    "collapsed": true
   },
   "outputs": [],
   "source": [
    "import math\n",
    "import numpy as np\n",
    "import pandas as pd"
   ]
  },
  {
   "cell_type": "markdown",
   "metadata": {},
   "source": [
    "### Input values for calculating European and American Call and Put options"
   ]
  },
  {
   "cell_type": "code",
   "execution_count": 8,
   "metadata": {
    "collapsed": true
   },
   "outputs": [],
   "source": [
    "exp = math.exp\n",
    "def max(x,y):\n",
    "    if x>y:\n",
    "        return x\n",
    "    else:\n",
    "        return y\n",
    "    \n",
    "\n",
    "S0 = 20\n",
    "K = 22\n",
    "sigma = 0.2\n",
    "dt = 1\n",
    "r = 0.12\n",
    "u = exp(sigma*math.sqrt(dt))\n",
    "d = 1/u\n",
    "n  = 5"
   ]
  },
  {
   "cell_type": "markdown",
   "metadata": {},
   "source": [
    "### Calculating the prices for 3 different dividend yields"
   ]
  },
  {
   "cell_type": "code",
   "execution_count": 20,
   "metadata": {},
   "outputs": [
    {
     "name": "stdout",
     "output_type": "stream",
     "text": [
      "European Call Option price: 8.23052086009 for Dividend yield: 0\n",
      "European Put Option price: 0.304376854161 for Dividend yield: 0\n",
      "American Call Option price: 8.23052086009 for Dividend yield: 0\n",
      "American Put Option price: 2.0 for Dividend yield: 0\n",
      "European Call Option price: 4.53406197219 for Dividend yield: 0.05\n",
      "European Put Option price: 1.03190230483 for Dividend yield: 0.05\n",
      "American Call Option price: 4.53406197219 for Dividend yield: 0.05\n",
      "American Put Option price: 2.31747321965 for Dividend yield: 0.05\n",
      "European Call Option price: 2.21458311504 for Dividend yield: 0.1\n",
      "European Put Option price: 2.15782591485 for Dividend yield: 0.1\n",
      "American Call Option price: 2.42247975873 for Dividend yield: 0.1\n",
      "American Put Option price: 3.17605159985 for Dividend yield: 0.1\n"
     ]
    }
   ],
   "source": [
    "EurCallPrice = np.zeros([n+1,n+1])\n",
    "USCallPrice = np.zeros([n+1,n+1])\n",
    "EurPutPrice = np.zeros([n+1,n+1])\n",
    "USPutPrice = np.zeros([n+1,n+1])\n",
    "Prices = []\n",
    "\n",
    "for divy in (0,0.05,0.1):\n",
    "    p = (math.exp(r-divy)-d)/(u-d)\n",
    "    \n",
    "    for t in range(n,-1,-1):\n",
    "        \n",
    "        for i in range(0,t+1,1):\n",
    "            \n",
    "            S=S0*(u**i)*(d**(t-i))\n",
    "            CallEx = max(S - K,0)\n",
    "            PutEx = max(K - S,0)\n",
    "            \n",
    "            if t==n:\n",
    "                \n",
    "                EurCallPrice[t][i] = CallEx\n",
    "                EurPutPrice[t][i] = PutEx\n",
    "                USCallPrice[t][i] = CallEx\n",
    "                USPutPrice[t][i] = PutEx\n",
    "                \n",
    "            else:\n",
    "                \n",
    "                EurCallPrice[t][i] = (EurCallPrice[t+1][i]*(1-p) + EurCallPrice[t+1][i+1]*p)*exp(-r)\n",
    "                EurPutPrice[t][i] = (EurPutPrice[t+1][i]*(1-p) + EurPutPrice[t+1][i+1]*p)*exp(-r)\n",
    "                USCallPrice[t][i] = max(CallEx,(USCallPrice[t+1][i]*(1-p) + USCallPrice[t+1][i+1]*p)*exp(-r))\n",
    "                USPutPrice[t][i] = max(PutEx,(USPutPrice[t+1][i]*(1-p) + USPutPrice[t+1][i+1]*p)*exp(-r))\n",
    "                \n",
    "    print(\"European Call Option price:\", EurCallPrice[0][0], \"for Dividend yield:\", divy)\n",
    "    print(\"European Put Option price:\", EurPutPrice[0][0], \"for Dividend yield:\", divy)\n",
    "    print(\"American Call Option price:\", USCallPrice[0][0], \"for Dividend yield:\", divy)\n",
    "    print(\"American Put Option price:\", USPutPrice[0][0], \"for Dividend yield:\", divy)\n",
    "    \n",
    "    Prices = np.array((EurCallPrice[0][0],EurPutPrice[0][0],USCallPrice[0][0],USPutPrice[0][0]))\n",
    "    #Prices.append(divy)"
   ]
  },
  {
   "cell_type": "markdown",
   "metadata": {},
   "source": [
    "### Print the values of the last dividend yield to a CSV file"
   ]
  },
  {
   "cell_type": "code",
   "execution_count": 10,
   "metadata": {
    "collapsed": true
   },
   "outputs": [],
   "source": [
    "df = pd.DataFrame(prices)"
   ]
  },
  {
   "cell_type": "code",
   "execution_count": 11,
   "metadata": {
    "collapsed": true
   },
   "outputs": [],
   "source": [
    "df[1]=['European Call Option price','European Put Option price','American Call Option price','American Put Option price']"
   ]
  },
  {
   "cell_type": "code",
   "execution_count": 12,
   "metadata": {
    "collapsed": true
   },
   "outputs": [],
   "source": [
    "df.to_csv('OptionPrices.csv')"
   ]
  },
  {
   "cell_type": "code",
   "execution_count": null,
   "metadata": {
    "collapsed": true
   },
   "outputs": [],
   "source": []
  }
 ],
 "metadata": {
  "kernelspec": {
   "display_name": "Python 3",
   "language": "python",
   "name": "python3"
  },
  "language_info": {
   "codemirror_mode": {
    "name": "ipython",
    "version": 3
   },
   "file_extension": ".py",
   "mimetype": "text/x-python",
   "name": "python",
   "nbconvert_exporter": "python",
   "pygments_lexer": "ipython3",
   "version": "3.6.3"
  }
 },
 "nbformat": 4,
 "nbformat_minor": 2
}
