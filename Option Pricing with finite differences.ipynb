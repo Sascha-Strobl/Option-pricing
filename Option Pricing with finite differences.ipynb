{
 "cells": [
  {
   "cell_type": "markdown",
   "metadata": {},
   "source": [
    "## Option Pricing with explicit finite difference method"
   ]
  },
  {
   "cell_type": "code",
   "execution_count": 29,
   "metadata": {
    "collapsed": true
   },
   "outputs": [],
   "source": [
    "import math\n",
    "import numpy as np\n",
    "import scipy.stats as si"
   ]
  },
  {
   "cell_type": "code",
   "execution_count": 2,
   "metadata": {
    "collapsed": true
   },
   "outputs": [],
   "source": [
    "S0 = 20\n",
    "K = 21\n",
    "r = 0.12\n",
    "T = 0.1\n",
    "m = 10   # number of time steps\n",
    "n = 10   # number of underlying steps\n",
    "dS = S0/n\n",
    "dt = T/m\n",
    "\n",
    "def max(x,y):\n",
    "    if x>y:\n",
    "        return x\n",
    "    else:\n",
    "        return y"
   ]
  },
  {
   "cell_type": "markdown",
   "metadata": {},
   "source": [
    "## Call"
   ]
  },
  {
   "cell_type": "code",
   "execution_count": 24,
   "metadata": {},
   "outputs": [
    {
     "name": "stdout",
     "output_type": "stream",
     "text": [
      "0.259879702236\n"
     ]
    }
   ],
   "source": [
    "F = np.zeros([m + 1, 2*n + 2])\n",
    "a = np.zeros([2*n + 2])\n",
    "b = np.zeros([2*n + 2])\n",
    "c = np.zeros([2*n + 2])\n",
    "\n",
    "for j in range(0,2*n + 2):\n",
    "    F[m][j] = max(j*dS - K,0)                         #value of the option at maturity\n",
    "    sigma = 0.2*(1 + math.exp(-j*dS))\n",
    "    a[j] = 1/(r+1/dt)*(0.5*sigma**2*j**2-r*j/2)\n",
    "    b[j] = 1/(r+1/dt)*(-sigma**2*j**2+1/dt)\n",
    "    c[j] = 1/(r+1/dt)*(0.5*sigma**2*j**2+r*j/2)\n",
    "    \n",
    "for i in range(m-1,-1,-1):\n",
    "    for j in range(0,2*n+1): \n",
    "        F[i][j] = a[j]*F[i+1,j-1] + b[j]*F[i+1,j] + c[j]*F[i+1,j+1]\n",
    "\n",
    "print(F[0][10]) "
   ]
  },
  {
   "cell_type": "markdown",
   "metadata": {},
   "source": [
    "## Put"
   ]
  },
  {
   "cell_type": "code",
   "execution_count": 25,
   "metadata": {},
   "outputs": [
    {
     "name": "stdout",
     "output_type": "stream",
     "text": [
      "1.00953494991\n"
     ]
    }
   ],
   "source": [
    "F = np.zeros([m + 1, 2*n + 2])\n",
    "a = np.zeros([2*n + 2])\n",
    "b = np.zeros([2*n + 2])\n",
    "c = np.zeros([2*n + 2])\n",
    "\n",
    "for j in range(0,2*n + 2):\n",
    "    F[m][j] = max(K - j*dS,0)                         #value of the option at maturity\n",
    "    sigma = 0.2*(1 + math.exp(-j*dS))\n",
    "    a[j] = 1/(r+1/dt)*(0.5*sigma**2*j**2-r*j/2)\n",
    "    b[j] = 1/(r+1/dt)*(-sigma**2*j**2+1/dt)\n",
    "    c[j] = 1/(r+1/dt)*(0.5*sigma**2*j**2+r*j/2)\n",
    "    \n",
    "for i in range(m-1,-1,-1):\n",
    "    for j in range(0,2*n+1): \n",
    "        F[i][j] = a[j]*F[i+1,j-1] + b[j]*F[i+1,j] + c[j]*F[i+1,j+1]\n",
    "\n",
    "print(F[0][10]) "
   ]
  },
  {
   "cell_type": "markdown",
   "metadata": {},
   "source": [
    "## Black-Scholes\n",
    "Comparision with Black-Scholes formula results"
   ]
  },
  {
   "cell_type": "code",
   "execution_count": 30,
   "metadata": {
    "collapsed": true
   },
   "outputs": [],
   "source": [
    "def bs_call(S, K, T, r, sigma):  \n",
    "    d1 = (np.log(S / K) + (r + 0.5 * sigma ** 2) * T) / (sigma * np.sqrt(T))\n",
    "    d2 = (np.log(S / K) + (r - 0.5 * sigma ** 2) * T) / (sigma * np.sqrt(T))\n",
    "    call = (S * si.norm.cdf(d1, 0.0, 1.0) - K * np.exp(-r * T) * si.norm.cdf(d2, 0.0, 1.0))\n",
    "    return call"
   ]
  },
  {
   "cell_type": "code",
   "execution_count": 31,
   "metadata": {},
   "outputs": [
    {
     "data": {
      "text/plain": [
       "0.22379442474646982"
      ]
     },
     "execution_count": 31,
     "metadata": {},
     "output_type": "execute_result"
    }
   ],
   "source": [
    "bs_call(S0,K,T,r,sigma)"
   ]
  },
  {
   "cell_type": "code",
   "execution_count": 33,
   "metadata": {
    "collapsed": true
   },
   "outputs": [],
   "source": [
    "def bs_put(S, K, T, r, sigma):   \n",
    "    d1 = (np.log(S / K) + (r + 0.5 * sigma ** 2) * T) / (sigma * np.sqrt(T))\n",
    "    d2 = (np.log(S / K) + (r - 0.5 * sigma ** 2) * T) / (sigma * np.sqrt(T))\n",
    "    put = (K * np.exp(-r * T) * si.norm.cdf(-d2, 0.0, 1.0) - S * si.norm.cdf(-d1, 0.0, 1.0))   \n",
    "    return put"
   ]
  },
  {
   "cell_type": "code",
   "execution_count": 34,
   "metadata": {},
   "outputs": [
    {
     "data": {
      "text/plain": [
       "0.97330039484701025"
      ]
     },
     "execution_count": 34,
     "metadata": {},
     "output_type": "execute_result"
    }
   ],
   "source": [
    "bs_put(S0,K,T,r,sigma)"
   ]
  },
  {
   "cell_type": "code",
   "execution_count": null,
   "metadata": {
    "collapsed": true
   },
   "outputs": [],
   "source": []
  }
 ],
 "metadata": {
  "kernelspec": {
   "display_name": "Python 3",
   "language": "python",
   "name": "python3"
  },
  "language_info": {
   "codemirror_mode": {
    "name": "ipython",
    "version": 3
   },
   "file_extension": ".py",
   "mimetype": "text/x-python",
   "name": "python",
   "nbconvert_exporter": "python",
   "pygments_lexer": "ipython3",
   "version": "3.6.3"
  }
 },
 "nbformat": 4,
 "nbformat_minor": 2
}
